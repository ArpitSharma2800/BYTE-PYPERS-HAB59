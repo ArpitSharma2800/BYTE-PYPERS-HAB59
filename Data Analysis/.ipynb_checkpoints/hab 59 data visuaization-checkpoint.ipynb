{
 "cells": [
  {
   "cell_type": "code",
   "execution_count": 31,
   "metadata": {},
   "outputs": [],
   "source": [
    "import pymongo as p"
   ]
  },
  {
   "cell_type": "code",
   "execution_count": 32,
   "metadata": {},
   "outputs": [],
   "source": [
    "client=p.MongoClient(\"mongodb://localhost:27017/\")"
   ]
  },
  {
   "cell_type": "markdown",
   "metadata": {},
   "source": [
    "## Testing"
   ]
  },
  {
   "cell_type": "code",
   "execution_count": 33,
   "metadata": {},
   "outputs": [
    {
     "name": "stdout",
     "output_type": "stream",
     "text": [
      "['admin', 'buyer', 'config', 'local', 'vendor']\n"
     ]
    }
   ],
   "source": [
    "print(client.list_database_names())"
   ]
  },
  {
   "cell_type": "code",
   "execution_count": 34,
   "metadata": {},
   "outputs": [
    {
     "name": "stdout",
     "output_type": "stream",
     "text": [
      "{'_id': ObjectId('5f2fb2d22451383810f11614'), 'password': '1234', 'name': 'Shopkeeper1', 'phone': 9999999999.0, 'vendor ID': 'v100'}\n",
      "{'_id': ObjectId('5f2fb3112451383810f11615'), 'name': 'Shopkeeper2', 'password': '1234', 'phone': 9999988888.0, 'vendor ID': 'v200'}\n",
      "{'_id': ObjectId('5f2fb3732451383810f11616'), 'password': '1234', 'name': 'Shopkeeper3', 'phone': 9999977777.0, 'vendor ID': 'v300'}\n"
     ]
    }
   ],
   "source": [
    "ven=client['vendor']\n",
    "ven_details=ven.details\n",
    "for d in ven_details.find():\n",
    "    print(d)"
   ]
  },
  {
   "cell_type": "code",
   "execution_count": 35,
   "metadata": {},
   "outputs": [
    {
     "name": "stdout",
     "output_type": "stream",
     "text": [
      "[{'Maggie': {'quantity': 10.0, 'price': 20.0, '_id': '5f2e10d2d4f97b00201b6a20', 'length': 41512.0, 'chunkSize': 261120.0, 'uploadDate': '2020-08-08T02:41:22.263Z', 'filename': 'H59.png', 'md5': 'e9ccc6fefe75ad1743dcf8a0a19a8648', 'contentType': 'image/png'}, 'Biscuit': {'quantity': 15.0, 'price': 30.0, '_id': '5f2e1dcead72df3df4cf8345', 'length': 4452712.0, 'chunkSize': 261120.0, 'uploadDate': '2020-08-08T03:36:47.276Z', 'filename': 'IMG20190818141402.jpg', 'md5': '2678b7665acff5ab34a459c125bfe1ed', 'contentType': 'image/jpeg'}}]\n",
      "[{'Cheese': {'quantity': 5.0, 'price': 50.0, '_id': '5f2e10d2d4f97b00201b6a20', 'length': 41512.0, 'chunkSize': 261120.0, 'uploadDate': '2020-08-08T02:41:22.263Z', 'filename': 'H59.png', 'md5': 'e9ccc6fefe75ad1743dcf8a0a19a8648', 'contentType': 'image/png'}, 'cake': {'quantity': 20.0, 'price': 10.0, '_id': '5f2e1dcead72df3df4cf8345', 'length': 4452712.0, 'chunkSize': 261120.0, 'uploadDate': '2020-08-08T03:36:47.276Z', 'filename': 'IMG20190818141402.jpg', 'md5': '2678b7665acff5ab34a459c125bfe1ed', 'contentType': 'image/jpeg'}}]\n",
      "[{'Chocolate': {'quantity': 10.0, 'price': 40.0, '_id': '5f2e10d2d4f97b00201b6a20', 'length': 41512.0, 'chunkSize': 261120.0, 'uploadDate': '2020-08-08T02:41:22.263Z', 'filename': 'H59.png', 'md5': 'e9ccc6fefe75ad1743dcf8a0a19a8648', 'contentType': 'image/png'}, 'Icecream': {'quantity': 20.0, 'price': 20.0, '_id': '5f2e1dcead72df3df4cf8345', 'length': 4452712.0, 'chunkSize': 261120.0, 'uploadDate': '2020-08-08T03:36:47.276Z', 'filename': 'IMG20190818141402.jpg', 'md5': '2678b7665acff5ab34a459c125bfe1ed', 'contentType': 'image/jpeg'}}]\n"
     ]
    }
   ],
   "source": [
    "ven_item=ven.items\n",
    "for d in ven_item.find():\n",
    "    print(d['item'])"
   ]
  },
  {
   "cell_type": "code",
   "execution_count": 36,
   "metadata": {},
   "outputs": [
    {
     "name": "stdout",
     "output_type": "stream",
     "text": [
      "Vendor name :  v100\n",
      "Maggie\n",
      "20.0\n",
      "10.0\n",
      "total Amount:  200.0\n",
      "Biscuit\n",
      "30.0\n",
      "15.0\n",
      "total Amount:  450.0\n",
      "Vendor name :  v200\n",
      "Cheese\n",
      "50.0\n",
      "5.0\n",
      "total Amount:  250.0\n",
      "cake\n",
      "10.0\n",
      "20.0\n",
      "total Amount:  200.0\n",
      "Vendor name :  v300\n",
      "Chocolate\n",
      "40.0\n",
      "10.0\n",
      "total Amount:  400.0\n",
      "Icecream\n",
      "20.0\n",
      "20.0\n",
      "total Amount:  400.0\n"
     ]
    }
   ],
   "source": [
    "ven_item=ven.items\n",
    "for d in ven_item.find():\n",
    "   print(\"Vendor name : \",d['vendor ID']) \n",
    "   for item in d['item']:\n",
    "      for i in item:\n",
    "            print(i)\n",
    "            print(item[i]['price'])\n",
    "            print(item[i]['quantity'])\n",
    "            print(\"total Amount: \",(item[i]['price']*item[i]['quantity']))\n",
    "   "
   ]
  },
  {
   "cell_type": "markdown",
   "metadata": {},
   "source": [
    "## Database Extraction starts"
   ]
  },
  {
   "cell_type": "code",
   "execution_count": 37,
   "metadata": {},
   "outputs": [
    {
     "data": {
      "text/html": [
       "<div>\n",
       "<style scoped>\n",
       "    .dataframe tbody tr th:only-of-type {\n",
       "        vertical-align: middle;\n",
       "    }\n",
       "\n",
       "    .dataframe tbody tr th {\n",
       "        vertical-align: top;\n",
       "    }\n",
       "\n",
       "    .dataframe thead th {\n",
       "        text-align: right;\n",
       "    }\n",
       "</style>\n",
       "<table border=\"1\" class=\"dataframe\">\n",
       "  <thead>\n",
       "    <tr style=\"text-align: right;\">\n",
       "      <th></th>\n",
       "      <th>User ID</th>\n",
       "      <th>Vendor ID</th>\n",
       "      <th>Date</th>\n",
       "      <th>Month</th>\n",
       "      <th>Item List</th>\n",
       "    </tr>\n",
       "  </thead>\n",
       "  <tbody>\n",
       "  </tbody>\n",
       "</table>\n",
       "</div>"
      ],
      "text/plain": [
       "Empty DataFrame\n",
       "Columns: [User ID, Vendor ID, Date, Month, Item List]\n",
       "Index: []"
      ]
     },
     "execution_count": 37,
     "metadata": {},
     "output_type": "execute_result"
    }
   ],
   "source": [
    "import pandas as pd\n",
    "userdata=pd.DataFrame(columns=['User ID','Vendor ID','Date','Month','Item List'])\n",
    "userdata"
   ]
  },
  {
   "cell_type": "code",
   "execution_count": 38,
   "metadata": {},
   "outputs": [
    {
     "name": "stdout",
     "output_type": "stream",
     "text": [
      "['Buyer1', 'Buyer2']\n",
      "['b100', 'b200']\n"
     ]
    }
   ],
   "source": [
    "user_details=client['buyer']\n",
    "d_user_name=[]\n",
    "d_userID=[]\n",
    "u_d=user_details.details\n",
    "for nm in u_d.find():\n",
    "   d_user_name.append(nm['name'])\n",
    "   d_userID.append(nm['buyer ID'])\n",
    "print(d_user_name)\n",
    "print(d_userID)"
   ]
  },
  {
   "cell_type": "code",
   "execution_count": 39,
   "metadata": {
    "scrolled": true
   },
   "outputs": [
    {
     "name": "stdout",
     "output_type": "stream",
     "text": [
      "[['Maggie', 5, 20, 100], ['Cheese', 1.0, 50.0, 50.0], ['cake', 5.0, 10.0, 50.0], ['cake', 5.0, 10.0, 50.0], ['Chocolate', 5.0, 40.0, 200.0], ['Chocolate', 3.0, 40.0, 120.0], ['Biscuit', 4.0, 30.0, 120.0], ['Chocolate', 4.0, 40.0, 160.0], ['Icecream', 5.0, 20.0, 100.0]]\n",
      "['25', '25', '25', '25', '25', '05', '05', '05', '06']\n",
      "['08', '08', '08', '08', '08', '09', '09', '09', '09']\n",
      "['v100', 'v200', 'v200', 'v200', 'v300', 'v300', 'v100', 'v300', 'v300']\n",
      "['b100', 'b100', 'b100', 'b100', 'b200', 'b200', 'b200', 'b100', 'b100']\n"
     ]
    }
   ],
   "source": [
    "m=['01','02','03','04','05','06','07','08','09','10','11','12']\n",
    "m_names=['January','February','March','April','May','June','July','August','September',\n",
    "         'October','November','December']\n",
    "u_t=user_details.transaction\n",
    "t_user_ID=[]\n",
    "t_vendor_ID=[]\n",
    "t_day=[]\n",
    "t_month=[]\n",
    "t_item_details=[]\n",
    "for tra in u_t.find():\n",
    "    t_user_ID.append(tra['buyer ID'])\n",
    "    t_vendor_ID.append(tra['vendor ID'])\n",
    "    t_day.append(tra['date'][0:2])\n",
    "    t_month.append(tra['date'][3:5])\n",
    "    \n",
    "    for items in tra['cart']:\n",
    "        for i in items:\n",
    "            cart_details=[]\n",
    "            cart_details.append(i)\n",
    "            cart_details.append(items[i]['quantity'])\n",
    "            cart_details.append(items[i]['price'])\n",
    "            cart_details.append(items[i]['quantity']*items[i]['price'])\n",
    "            t_item_details.append(cart_details)\n",
    "            \n",
    "print(t_item_details)\n",
    "print(t_day)\n",
    "print(t_month)\n",
    "print(t_vendor_ID)\n",
    "print(t_user_ID) \n",
    "    \n",
    "    \n"
   ]
  },
  {
   "cell_type": "code",
   "execution_count": 41,
   "metadata": {},
   "outputs": [
    {
     "data": {
      "text/html": [
       "<div>\n",
       "<style scoped>\n",
       "    .dataframe tbody tr th:only-of-type {\n",
       "        vertical-align: middle;\n",
       "    }\n",
       "\n",
       "    .dataframe tbody tr th {\n",
       "        vertical-align: top;\n",
       "    }\n",
       "\n",
       "    .dataframe thead th {\n",
       "        text-align: right;\n",
       "    }\n",
       "</style>\n",
       "<table border=\"1\" class=\"dataframe\">\n",
       "  <thead>\n",
       "    <tr style=\"text-align: right;\">\n",
       "      <th></th>\n",
       "      <th>User ID</th>\n",
       "      <th>Vendor ID</th>\n",
       "      <th>Date</th>\n",
       "      <th>Month</th>\n",
       "      <th>Item List</th>\n",
       "    </tr>\n",
       "  </thead>\n",
       "  <tbody>\n",
       "    <tr>\n",
       "      <th>0</th>\n",
       "      <td>b100</td>\n",
       "      <td>v100</td>\n",
       "      <td>25</td>\n",
       "      <td>08</td>\n",
       "      <td>[Maggie, 5, 20, 100]</td>\n",
       "    </tr>\n",
       "    <tr>\n",
       "      <th>1</th>\n",
       "      <td>b100</td>\n",
       "      <td>v200</td>\n",
       "      <td>25</td>\n",
       "      <td>08</td>\n",
       "      <td>[Cheese, 1.0, 50.0, 50.0]</td>\n",
       "    </tr>\n",
       "    <tr>\n",
       "      <th>2</th>\n",
       "      <td>b100</td>\n",
       "      <td>v200</td>\n",
       "      <td>25</td>\n",
       "      <td>08</td>\n",
       "      <td>[cake, 5.0, 10.0, 50.0]</td>\n",
       "    </tr>\n",
       "    <tr>\n",
       "      <th>3</th>\n",
       "      <td>b100</td>\n",
       "      <td>v200</td>\n",
       "      <td>25</td>\n",
       "      <td>08</td>\n",
       "      <td>[cake, 5.0, 10.0, 50.0]</td>\n",
       "    </tr>\n",
       "    <tr>\n",
       "      <th>4</th>\n",
       "      <td>b200</td>\n",
       "      <td>v300</td>\n",
       "      <td>25</td>\n",
       "      <td>08</td>\n",
       "      <td>[Chocolate, 5.0, 40.0, 200.0]</td>\n",
       "    </tr>\n",
       "    <tr>\n",
       "      <th>5</th>\n",
       "      <td>b200</td>\n",
       "      <td>v300</td>\n",
       "      <td>05</td>\n",
       "      <td>09</td>\n",
       "      <td>[Chocolate, 3.0, 40.0, 120.0]</td>\n",
       "    </tr>\n",
       "    <tr>\n",
       "      <th>6</th>\n",
       "      <td>b200</td>\n",
       "      <td>v100</td>\n",
       "      <td>05</td>\n",
       "      <td>09</td>\n",
       "      <td>[Biscuit, 4.0, 30.0, 120.0]</td>\n",
       "    </tr>\n",
       "    <tr>\n",
       "      <th>7</th>\n",
       "      <td>b100</td>\n",
       "      <td>v300</td>\n",
       "      <td>05</td>\n",
       "      <td>09</td>\n",
       "      <td>[Chocolate, 4.0, 40.0, 160.0]</td>\n",
       "    </tr>\n",
       "    <tr>\n",
       "      <th>8</th>\n",
       "      <td>b100</td>\n",
       "      <td>v300</td>\n",
       "      <td>06</td>\n",
       "      <td>09</td>\n",
       "      <td>[Icecream, 5.0, 20.0, 100.0]</td>\n",
       "    </tr>\n",
       "  </tbody>\n",
       "</table>\n",
       "</div>"
      ],
      "text/plain": [
       "  User ID Vendor ID Date Month                      Item List\n",
       "0    b100      v100   25    08           [Maggie, 5, 20, 100]\n",
       "1    b100      v200   25    08      [Cheese, 1.0, 50.0, 50.0]\n",
       "2    b100      v200   25    08        [cake, 5.0, 10.0, 50.0]\n",
       "3    b100      v200   25    08        [cake, 5.0, 10.0, 50.0]\n",
       "4    b200      v300   25    08  [Chocolate, 5.0, 40.0, 200.0]\n",
       "5    b200      v300   05    09  [Chocolate, 3.0, 40.0, 120.0]\n",
       "6    b200      v100   05    09    [Biscuit, 4.0, 30.0, 120.0]\n",
       "7    b100      v300   05    09  [Chocolate, 4.0, 40.0, 160.0]\n",
       "8    b100      v300   06    09   [Icecream, 5.0, 20.0, 100.0]"
      ]
     },
     "execution_count": 41,
     "metadata": {},
     "output_type": "execute_result"
    }
   ],
   "source": [
    "#userdata=pd.DataFrame(columns=['User ID','Vendor ID','Date','Month','Item List'])\n",
    "\n",
    "userdata['User ID']=t_user_ID\n",
    "userdata['Vendor ID']=t_vendor_ID\n",
    "userdata['Date']=t_day\n",
    "userdata['Month']=t_month\n",
    "userdata['Item List']=t_item_details\n",
    "userdata.head(10)"
   ]
  },
  {
   "cell_type": "code",
   "execution_count": 46,
   "metadata": {},
   "outputs": [
    {
     "name": "stdout",
     "output_type": "stream",
     "text": [
      "['Shopkeeper1', 'Shopkeeper2', 'Shopkeeper3']\n",
      "['v100', 'v200', 'v300']\n"
     ]
    }
   ],
   "source": [
    "vendor_details=client['vendor']\n",
    "d_vendor_name=[]\n",
    "d_vendorID=[]\n",
    "u_d=vendor_details.details\n",
    "for nm in u_d.find():\n",
    "   d_vendor_name.append(nm['name'])\n",
    "   d_vendorID.append(nm['vendor ID'])\n",
    "print(d_vendor_name)\n",
    "print(d_vendorID)"
   ]
  },
  {
   "cell_type": "code",
   "execution_count": 68,
   "metadata": {},
   "outputs": [
    {
     "data": {
      "text/html": [
       "<div>\n",
       "<style scoped>\n",
       "    .dataframe tbody tr th:only-of-type {\n",
       "        vertical-align: middle;\n",
       "    }\n",
       "\n",
       "    .dataframe tbody tr th {\n",
       "        vertical-align: top;\n",
       "    }\n",
       "\n",
       "    .dataframe thead th {\n",
       "        text-align: right;\n",
       "    }\n",
       "</style>\n",
       "<table border=\"1\" class=\"dataframe\">\n",
       "  <thead>\n",
       "    <tr style=\"text-align: right;\">\n",
       "      <th></th>\n",
       "      <th>Vendor ID</th>\n",
       "      <th>Item</th>\n",
       "      <th>Price</th>\n",
       "      <th>Quantity</th>\n",
       "    </tr>\n",
       "  </thead>\n",
       "  <tbody>\n",
       "  </tbody>\n",
       "</table>\n",
       "</div>"
      ],
      "text/plain": [
       "Empty DataFrame\n",
       "Columns: [Vendor ID, Item, Price, Quantity]\n",
       "Index: []"
      ]
     },
     "execution_count": 68,
     "metadata": {},
     "output_type": "execute_result"
    }
   ],
   "source": [
    "vendordata=pd.DataFrame(columns=['Vendor ID','Item','Price','Quantity','Total'])\n",
    "vendordata"
   ]
  },
  {
   "cell_type": "code",
   "execution_count": 71,
   "metadata": {},
   "outputs": [
    {
     "name": "stdout",
     "output_type": "stream",
     "text": [
      "[['Maggie', 'Biscuit'], ['Cheese', 'cake'], ['Chocolate', 'Icecream']]\n",
      "[[20, 30], [50, 10], [40, 20]]\n",
      "[[10, 15], [5, 20], [10, 20]]\n",
      "[[200, 450], [250, 200], [400, 400]]\n"
     ]
    }
   ],
   "source": [
    "v_items=vendor_details.items\n",
    "l_n=[]\n",
    "l_p=[]\n",
    "l_q=[]\n",
    "l_t=[]\n",
    "v_ID=[]\n",
    "for v_i in v_items.find():\n",
    "   v_ID.append(v_i['vendor ID'])\n",
    "   for it in v_i['item']:\n",
    "        v_n=[]\n",
    "        v_p=[]\n",
    "        v_q=[]\n",
    "        v_t=[]\n",
    "        for i in it:\n",
    "            v_n.append(i)\n",
    "            v_p.append(it[i][\"price\"])\n",
    "            v_q.append(it[i][\"quantity\"])\n",
    "            v_t.append(it[i][\"price\"]*it[i][\"quantity\"])\n",
    "        l_n.append(v_n)\n",
    "        l_p.append(v_p)\n",
    "        l_q.append(v_q)\n",
    "        l_t.append(v_t)\n",
    "print(l_n)\n",
    "print(l_p)\n",
    "print(l_q)\n",
    "print(l_t)"
   ]
  },
  {
   "cell_type": "code",
   "execution_count": 70,
   "metadata": {},
   "outputs": [
    {
     "data": {
      "text/html": [
       "<div>\n",
       "<style scoped>\n",
       "    .dataframe tbody tr th:only-of-type {\n",
       "        vertical-align: middle;\n",
       "    }\n",
       "\n",
       "    .dataframe tbody tr th {\n",
       "        vertical-align: top;\n",
       "    }\n",
       "\n",
       "    .dataframe thead th {\n",
       "        text-align: right;\n",
       "    }\n",
       "</style>\n",
       "<table border=\"1\" class=\"dataframe\">\n",
       "  <thead>\n",
       "    <tr style=\"text-align: right;\">\n",
       "      <th></th>\n",
       "      <th>Vendor ID</th>\n",
       "      <th>Item</th>\n",
       "      <th>Price</th>\n",
       "      <th>Quantity</th>\n",
       "      <th>Total</th>\n",
       "    </tr>\n",
       "  </thead>\n",
       "  <tbody>\n",
       "    <tr>\n",
       "      <th>0</th>\n",
       "      <td>v100</td>\n",
       "      <td>[Maggie, Biscuit]</td>\n",
       "      <td>[20.0, 30.0]</td>\n",
       "      <td>[10.0, 15.0]</td>\n",
       "      <td>[200.0, 450.0]</td>\n",
       "    </tr>\n",
       "    <tr>\n",
       "      <th>1</th>\n",
       "      <td>v200</td>\n",
       "      <td>[Cheese, cake]</td>\n",
       "      <td>[50.0, 10.0]</td>\n",
       "      <td>[5.0, 20.0]</td>\n",
       "      <td>[250.0, 200.0]</td>\n",
       "    </tr>\n",
       "    <tr>\n",
       "      <th>2</th>\n",
       "      <td>v300</td>\n",
       "      <td>[Chocolate, Icecream]</td>\n",
       "      <td>[40.0, 20.0]</td>\n",
       "      <td>[10.0, 20.0]</td>\n",
       "      <td>[400.0, 400.0]</td>\n",
       "    </tr>\n",
       "  </tbody>\n",
       "</table>\n",
       "</div>"
      ],
      "text/plain": [
       "  Vendor ID                   Item         Price      Quantity           Total\n",
       "0      v100      [Maggie, Biscuit]  [20.0, 30.0]  [10.0, 15.0]  [200.0, 450.0]\n",
       "1      v200         [Cheese, cake]  [50.0, 10.0]   [5.0, 20.0]  [250.0, 200.0]\n",
       "2      v300  [Chocolate, Icecream]  [40.0, 20.0]  [10.0, 20.0]  [400.0, 400.0]"
      ]
     },
     "execution_count": 70,
     "metadata": {},
     "output_type": "execute_result"
    }
   ],
   "source": [
    "#vendordata=pd.DataFrame(columns=['Vendor ID','Item','Price','Quantity','Total'])\n",
    "vendordata['Vendor ID']=v_ID\n",
    "vendordata['Item']=l_n\n",
    "vendordata['Price']=l_p\n",
    "vendordata['Quantity']=l_q\n",
    "vendordata['Total']=l_t\n",
    "vendordata.head()"
   ]
  },
  {
   "cell_type": "markdown",
   "metadata": {},
   "source": [
    "## Data Visualization\n",
    "\n",
    "####  Plotly and dash"
   ]
  },
  {
   "cell_type": "code",
   "execution_count": null,
   "metadata": {},
   "outputs": [],
   "source": []
  }
 ],
 "metadata": {
  "kernelspec": {
   "display_name": "Python 3.7.4 64-bit",
   "language": "python",
   "name": "python37464bit942c60d0cc0e4cb09355ccf367753958"
  },
  "language_info": {
   "codemirror_mode": {
    "name": "ipython",
    "version": 3
   },
   "file_extension": ".py",
   "mimetype": "text/x-python",
   "name": "python",
   "nbconvert_exporter": "python",
   "pygments_lexer": "ipython3",
   "version": "3.7.4"
  }
 },
 "nbformat": 4,
 "nbformat_minor": 4
}
